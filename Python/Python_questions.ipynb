{
  "nbformat": 4,
  "nbformat_minor": 0,
  "metadata": {
    "colab": {
      "name": "Python questions.ipynb",
      "provenance": [],
      "collapsed_sections": [],
      "authorship_tag": "ABX9TyPpqr8IbGtHyx4NAmGnIOK8",
      "include_colab_link": true
    },
    "kernelspec": {
      "name": "python3",
      "display_name": "Python 3"
    }
  },
  "cells": [
    {
      "cell_type": "markdown",
      "metadata": {
        "id": "view-in-github",
        "colab_type": "text"
      },
      "source": [
        "<a href=\"https://colab.research.google.com/github/sagar9926/ImportantConcepts-/blob/master/Python/Python_questions.ipynb\" target=\"_parent\"><img src=\"https://colab.research.google.com/assets/colab-badge.svg\" alt=\"Open In Colab\"/></a>"
      ]
    },
    {
      "cell_type": "markdown",
      "metadata": {
        "id": "1aQ5Wo2lHegS",
        "colab_type": "text"
      },
      "source": [
        "# Exercise\n",
        "\n",
        "1.   Create a dictionary whose keys correspond to unique words in a given file and whose values correspond to the number of times each word appears in the file.\n",
        "2.   To an output file, write the 10 most frequent words in separate lines.\n",
        "3.   To an output file, write the 5 most frequenct 2-grams in separate lines.\n",
        "\n"
      ]
    },
    {
      "cell_type": "code",
      "metadata": {
        "id": "AGXBNzM9F4EX",
        "colab_type": "code",
        "colab": {}
      },
      "source": [
        "text = \"\"\" Unending Love by Rabindranath Tagore\n",
        "\n",
        "I seem to have loved you in numberless forms, numberless times\n",
        "In life after life, in age after age, forever.\n",
        "My spellbound heart has made and remade the necklace of songs,\n",
        "That you take as a gift, wear round your neck in your many forms,\n",
        "In life after life, in age after age, forever.\n",
        "\n",
        "Whenever I hear old chronicles of love, its age-old pain,\n",
        "Its ancient tale of being apart or together.\n",
        "As I stare on and on into the past, in the end you emerge,\n",
        "Clad in the light of a pole-star piercing the darkness of time:\n",
        "You become an image of what is remembered forever.\n",
        "\n",
        "You and I have floated here on the stream that brings from the fount.\n",
        "At the heart of time, love of one for another.\n",
        "We have played along side millions of lovers, shared in the same\n",
        "Shy sweetness of meeting, the same distressful tears of farewell-\n",
        "Old love but in shapes that renew and renew forever.\n",
        "\n",
        "Today it is heaped at your feet, it has found its end in you\n",
        "The love of all manâ€™s days both past and forever:\n",
        "Universal joy, universal sorrow, universal life.\n",
        "The memories of all loves merging with this one love of ours â€“\n",
        "And the songs of every poet past and forever.\"\"\""
      ],
      "execution_count": 0,
      "outputs": []
    },
    {
      "cell_type": "code",
      "metadata": {
        "id": "tIc7ANQnMFFD",
        "colab_type": "code",
        "colab": {
          "base_uri": "https://localhost:8080/",
          "height": 35
        },
        "outputId": "457176ce-8e79-448b-9d50-cfd4d9c9a22d"
      },
      "source": [
        "len(text.split())\n",
        "\n",
        "len(lower_text)"
      ],
      "execution_count": 21,
      "outputs": [
        {
          "output_type": "execute_result",
          "data": {
            "text/plain": [
              "220"
            ]
          },
          "metadata": {
            "tags": []
          },
          "execution_count": 21
        }
      ]
    },
    {
      "cell_type": "code",
      "metadata": {
        "id": "3uVCC44JHFN-",
        "colab_type": "code",
        "colab": {
          "base_uri": "https://localhost:8080/",
          "height": 35
        },
        "outputId": "d5e149d4-9956-466b-9ff8-77c03c38fdce"
      },
      "source": [
        "#Cleaning the data\n",
        "lower_text = []\n",
        "cleaned_text = []\n",
        "\n",
        "for item in text.split():\n",
        "  item_lower = item.lower()\n",
        "  lower_text.append(item_lower)\n",
        "\n",
        "chars_to_replace = ['\\n', ',', '-', '\"', '(', ')', '.']\n",
        "\n",
        "for i in range(len(lower_text)):\n",
        "    for s in chars_to_replace:\n",
        "        lower_text[i] = lower_text[i].replace(s, ' ')\n",
        "len(lower_text)"
      ],
      "execution_count": 24,
      "outputs": [
        {
          "output_type": "execute_result",
          "data": {
            "text/plain": [
              "220"
            ]
          },
          "metadata": {
            "tags": []
          },
          "execution_count": 24
        }
      ]
    },
    {
      "cell_type": "code",
      "metadata": {
        "id": "-qF6_Ad7NDPY",
        "colab_type": "code",
        "colab": {
          "base_uri": "https://localhost:8080/",
          "height": 35
        },
        "outputId": "cf4da5fa-b72d-407b-b972-57077c047254"
      },
      "source": [
        "text = \" \".join(lower_text)\n",
        "words = text.split()\n",
        "len(words)"
      ],
      "execution_count": 27,
      "outputs": [
        {
          "output_type": "execute_result",
          "data": {
            "text/plain": [
              "222"
            ]
          },
          "metadata": {
            "tags": []
          },
          "execution_count": 27
        }
      ]
    },
    {
      "cell_type": "code",
      "metadata": {
        "id": "IXYCdfGxI5WD",
        "colab_type": "code",
        "colab": {}
      },
      "source": [
        "word_dict = {}\n",
        "\n",
        "for word in words:\n",
        "  if word in word_dict:\n",
        "    word_dict[word] += 1\n",
        "  else:\n",
        "    word_dict[word] = 1   "
      ],
      "execution_count": 0,
      "outputs": []
    },
    {
      "cell_type": "code",
      "metadata": {
        "id": "gxvC1K5GJWuZ",
        "colab_type": "code",
        "colab": {
          "base_uri": "https://localhost:8080/",
          "height": 195
        },
        "outputId": "0c3f6c77-3232-4e13-de9b-ea1da1d53dda"
      },
      "source": [
        "# top 10 occuring words\n",
        "\n",
        "sorted(word_dict.items(),key = lambda item : item[1],reverse = True)[:10]\n"
      ],
      "execution_count": 37,
      "outputs": [
        {
          "output_type": "execute_result",
          "data": {
            "text/plain": [
              "[('of', 15),\n",
              " ('the', 13),\n",
              " ('in', 11),\n",
              " ('and', 7),\n",
              " ('love', 6),\n",
              " ('you', 6),\n",
              " ('life', 5),\n",
              " ('age', 5),\n",
              " ('forever', 5),\n",
              " ('i', 4)]"
            ]
          },
          "metadata": {
            "tags": []
          },
          "execution_count": 37
        }
      ]
    },
    {
      "cell_type": "code",
      "metadata": {
        "id": "JHC3XJRZOQwJ",
        "colab_type": "code",
        "colab": {}
      },
      "source": [
        "# 3 To an output file, write the 5 most frequenct 2-grams in separate lines.\n",
        "\n",
        "bi_gram = []\n",
        "for i in range(1,len(words)):\n",
        "  tup = (words[i-1],words[i])\n",
        "  bi_gram.append(tup)\n",
        "\n"
      ],
      "execution_count": 0,
      "outputs": []
    },
    {
      "cell_type": "code",
      "metadata": {
        "id": "nlgG_xEJPlCi",
        "colab_type": "code",
        "colab": {}
      },
      "source": [
        "bigram_dict = {}\n",
        "\n",
        "for bigram in bi_gram:\n",
        "  if bigram in bigram_dict:\n",
        "    bigram_dict[bigram] += 1\n",
        "  else:\n",
        "    bigram_dict[bigram] = 1"
      ],
      "execution_count": 0,
      "outputs": []
    },
    {
      "cell_type": "code",
      "metadata": {
        "id": "jRA-5jAMQc4h",
        "colab_type": "code",
        "colab": {
          "base_uri": "https://localhost:8080/",
          "height": 266
        },
        "outputId": "9f26d373-2cd8-4d75-ae8d-a16cc2a1e086"
      },
      "source": [
        "sorted(bigram_dict.items() , key = lambda item : item[1], reverse = True)[:14]"
      ],
      "execution_count": 54,
      "outputs": [
        {
          "output_type": "execute_result",
          "data": {
            "text/plain": [
              "[(('in', 'the'), 3),\n",
              " (('love', 'of'), 3),\n",
              " (('in', 'life'), 2),\n",
              " (('life', 'after'), 2),\n",
              " (('after', 'life'), 2),\n",
              " (('life', 'in'), 2),\n",
              " (('in', 'age'), 2),\n",
              " (('age', 'after'), 2),\n",
              " (('after', 'age'), 2),\n",
              " (('age', 'forever'), 2),\n",
              " (('the', 'same'), 2),\n",
              " (('of', 'all'), 2),\n",
              " (('past', 'and'), 2),\n",
              " (('unending', 'love'), 1)]"
            ]
          },
          "metadata": {
            "tags": []
          },
          "execution_count": 54
        }
      ]
    },
    {
      "cell_type": "code",
      "metadata": {
        "id": "viCiRuvmOOkU",
        "colab_type": "code",
        "colab": {}
      },
      "source": [
        ""
      ],
      "execution_count": 0,
      "outputs": []
    }
  ]
}