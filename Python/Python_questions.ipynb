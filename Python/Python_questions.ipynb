{
  "nbformat": 4,
  "nbformat_minor": 0,
  "metadata": {
    "colab": {
      "name": "Python questions.ipynb",
      "provenance": [],
      "collapsed_sections": [],
      "authorship_tag": "ABX9TyNeJmdK9RAYAQYlj51nGHZ4",
      "include_colab_link": true
    },
    "kernelspec": {
      "name": "python3",
      "display_name": "Python 3"
    }
  },
  "cells": [
    {
      "cell_type": "markdown",
      "metadata": {
        "id": "view-in-github",
        "colab_type": "text"
      },
      "source": [
        "<a href=\"https://colab.research.google.com/github/sagar9926/ImportantConcepts-/blob/master/Python/Python_questions.ipynb\" target=\"_parent\"><img src=\"https://colab.research.google.com/assets/colab-badge.svg\" alt=\"Open In Colab\"/></a>"
      ]
    },
    {
      "cell_type": "markdown",
      "metadata": {
        "id": "1aQ5Wo2lHegS",
        "colab_type": "text"
      },
      "source": [
        "# Exercise\n",
        "\n",
        "1.   Create a dictionary whose keys correspond to unique words in a given file and whose values correspond to the number of times each word appears in the file.\n",
        "2.   To an output file, write the 10 most frequent words in separate lines.\n",
        "3.   To an output file, write the 5 most frequenct 2-grams in separate lines.\n",
        "\n"
      ]
    },
    {
      "cell_type": "code",
      "metadata": {
        "id": "AGXBNzM9F4EX",
        "colab_type": "code",
        "colab": {}
      },
      "source": [
        "text = \"\"\" Unending Love by Rabindranath Tagore\n",
        "\n",
        "I seem to have loved you in numberless forms, numberless times\n",
        "In life after life, in age after age, forever.\n",
        "My spellbound heart has made and remade the necklace of songs,\n",
        "That you take as a gift, wear round your neck in your many forms,\n",
        "In life after life, in age after age, forever.\n",
        "\n",
        "Whenever I hear old chronicles of love, its age-old pain,\n",
        "Its ancient tale of being apart or together.\n",
        "As I stare on and on into the past, in the end you emerge,\n",
        "Clad in the light of a pole-star piercing the darkness of time:\n",
        "You become an image of what is remembered forever.\n",
        "\n",
        "You and I have floated here on the stream that brings from the fount.\n",
        "At the heart of time, love of one for another.\n",
        "We have played along side millions of lovers, shared in the same\n",
        "Shy sweetness of meeting, the same distressful tears of farewell-\n",
        "Old love but in shapes that renew and renew forever.\n",
        "\n",
        "Today it is heaped at your feet, it has found its end in you\n",
        "The love of all manâ€™s days both past and forever:\n",
        "Universal joy, universal sorrow, universal life.\n",
        "The memories of all loves merging with this one love of ours â€“\n",
        "And the songs of every poet past and forever.\"\"\""
      ],
      "execution_count": 0,
      "outputs": []
    },
    {
      "cell_type": "code",
      "metadata": {
        "id": "tIc7ANQnMFFD",
        "colab_type": "code",
        "colab": {
          "base_uri": "https://localhost:8080/",
          "height": 35
        },
        "outputId": "457176ce-8e79-448b-9d50-cfd4d9c9a22d"
      },
      "source": [
        "len(text.split())\n",
        "\n",
        "len(lower_text)"
      ],
      "execution_count": 21,
      "outputs": [
        {
          "output_type": "execute_result",
          "data": {
            "text/plain": [
              "220"
            ]
          },
          "metadata": {
            "tags": []
          },
          "execution_count": 21
        }
      ]
    },
    {
      "cell_type": "code",
      "metadata": {
        "id": "3uVCC44JHFN-",
        "colab_type": "code",
        "colab": {
          "base_uri": "https://localhost:8080/",
          "height": 35
        },
        "outputId": "d5e149d4-9956-466b-9ff8-77c03c38fdce"
      },
      "source": [
        "#Cleaning the data\n",
        "lower_text = []\n",
        "cleaned_text = []\n",
        "\n",
        "for item in text.split():\n",
        "  item_lower = item.lower()\n",
        "  lower_text.append(item_lower)\n",
        "\n",
        "chars_to_replace = ['\\n', ',', '-', '\"', '(', ')', '.']\n",
        "\n",
        "for i in range(len(lower_text)):\n",
        "    for s in chars_to_replace:\n",
        "        lower_text[i] = lower_text[i].replace(s, ' ')\n",
        "len(lower_text)"
      ],
      "execution_count": 24,
      "outputs": [
        {
          "output_type": "execute_result",
          "data": {
            "text/plain": [
              "220"
            ]
          },
          "metadata": {
            "tags": []
          },
          "execution_count": 24
        }
      ]
    },
    {
      "cell_type": "code",
      "metadata": {
        "id": "-qF6_Ad7NDPY",
        "colab_type": "code",
        "colab": {
          "base_uri": "https://localhost:8080/",
          "height": 35
        },
        "outputId": "cf4da5fa-b72d-407b-b972-57077c047254"
      },
      "source": [
        "text = \" \".join(lower_text)\n",
        "words = text.split()\n",
        "len(words)"
      ],
      "execution_count": 27,
      "outputs": [
        {
          "output_type": "execute_result",
          "data": {
            "text/plain": [
              "222"
            ]
          },
          "metadata": {
            "tags": []
          },
          "execution_count": 27
        }
      ]
    },
    {
      "cell_type": "code",
      "metadata": {
        "id": "IXYCdfGxI5WD",
        "colab_type": "code",
        "colab": {}
      },
      "source": [
        "word_dict = {}\n",
        "\n",
        "for word in words:\n",
        "  if word in word_dict:\n",
        "    word_dict[word] += 1\n",
        "  else:\n",
        "    word_dict[word] = 1   "
      ],
      "execution_count": 0,
      "outputs": []
    },
    {
      "cell_type": "code",
      "metadata": {
        "id": "gxvC1K5GJWuZ",
        "colab_type": "code",
        "colab": {
          "base_uri": "https://localhost:8080/",
          "height": 195
        },
        "outputId": "0c3f6c77-3232-4e13-de9b-ea1da1d53dda"
      },
      "source": [
        "# top 10 occuring words\n",
        "\n",
        "sorted(word_dict.items(),key = lambda item : item[1],reverse = True)[:10]\n"
      ],
      "execution_count": 37,
      "outputs": [
        {
          "output_type": "execute_result",
          "data": {
            "text/plain": [
              "[('of', 15),\n",
              " ('the', 13),\n",
              " ('in', 11),\n",
              " ('and', 7),\n",
              " ('love', 6),\n",
              " ('you', 6),\n",
              " ('life', 5),\n",
              " ('age', 5),\n",
              " ('forever', 5),\n",
              " ('i', 4)]"
            ]
          },
          "metadata": {
            "tags": []
          },
          "execution_count": 37
        }
      ]
    },
    {
      "cell_type": "code",
      "metadata": {
        "id": "JHC3XJRZOQwJ",
        "colab_type": "code",
        "colab": {}
      },
      "source": [
        "# 3 To an output file, write the 5 most frequenct 2-grams in separate lines.\n",
        "\n",
        "bi_gram = []\n",
        "for i in range(1,len(words)):\n",
        "  tup = (words[i-1],words[i])\n",
        "  bi_gram.append(tup)\n",
        "\n"
      ],
      "execution_count": 0,
      "outputs": []
    },
    {
      "cell_type": "code",
      "metadata": {
        "id": "nlgG_xEJPlCi",
        "colab_type": "code",
        "colab": {}
      },
      "source": [
        "bigram_dict = {}\n",
        "\n",
        "for bigram in bi_gram:\n",
        "  if bigram in bigram_dict:\n",
        "    bigram_dict[bigram] += 1\n",
        "  else:\n",
        "    bigram_dict[bigram] = 1"
      ],
      "execution_count": 0,
      "outputs": []
    },
    {
      "cell_type": "code",
      "metadata": {
        "id": "jRA-5jAMQc4h",
        "colab_type": "code",
        "colab": {
          "base_uri": "https://localhost:8080/",
          "height": 266
        },
        "outputId": "9f26d373-2cd8-4d75-ae8d-a16cc2a1e086"
      },
      "source": [
        "sorted(bigram_dict.items() , key = lambda item : item[1], reverse = True)[:14]"
      ],
      "execution_count": 54,
      "outputs": [
        {
          "output_type": "execute_result",
          "data": {
            "text/plain": [
              "[(('in', 'the'), 3),\n",
              " (('love', 'of'), 3),\n",
              " (('in', 'life'), 2),\n",
              " (('life', 'after'), 2),\n",
              " (('after', 'life'), 2),\n",
              " (('life', 'in'), 2),\n",
              " (('in', 'age'), 2),\n",
              " (('age', 'after'), 2),\n",
              " (('after', 'age'), 2),\n",
              " (('age', 'forever'), 2),\n",
              " (('the', 'same'), 2),\n",
              " (('of', 'all'), 2),\n",
              " (('past', 'and'), 2),\n",
              " (('unending', 'love'), 1)]"
            ]
          },
          "metadata": {
            "tags": []
          },
          "execution_count": 54
        }
      ]
    },
    {
      "cell_type": "markdown",
      "metadata": {
        "id": "FC1Y2PamVNAS",
        "colab_type": "text"
      },
      "source": [
        "Exercise : 1.   Create a list of 10 ordered pairs **$(x,y),\\ \\ x\\ \\epsilon\\ [-6,6]$** such that they satisfy the equation **$x^2+y^2=r^2$** where **$r=6$**"
      ]
    },
    {
      "cell_type": "code",
      "metadata": {
        "id": "o4tG9bsQRuUD",
        "colab_type": "code",
        "colab": {
          "base_uri": "https://localhost:8080/",
          "height": 55
        },
        "outputId": "030b1854-a2e0-4fc5-92af-fd510fdbc21a"
      },
      "source": [
        "# Basically you have to feed one variable either x or y and calculate the other\n",
        "\n",
        "r = 6\n",
        "ordered_pair = []\n",
        "def f(x):\n",
        "  return((r**2 - x**2)**0.5)\n",
        "\n",
        "\n",
        "for x in range(-5,5):\n",
        "  ordered_pair.append((x,f(x)))\n",
        "\n",
        "print(ordered_pair)"
      ],
      "execution_count": 65,
      "outputs": [
        {
          "output_type": "stream",
          "text": [
            "[(-5, 3.3166247903554), (-4, 4.47213595499958), (-3, 5.196152422706632), (-2, 5.656854249492381), (-1, 5.916079783099616), (0, 6.0), (1, 5.916079783099616), (2, 5.656854249492381), (3, 5.196152422706632), (4, 4.47213595499958)]\n"
          ],
          "name": "stdout"
        }
      ]
    },
    {
      "cell_type": "markdown",
      "metadata": {
        "id": "7C3UsussXYdj",
        "colab_type": "text"
      },
      "source": [
        "2.   We have a list of tuple representing the name and height (in cms) of 5 students respectively. Convert the list into a dictionary so that we can access the student's height from their names. \n",
        "> ```data = [('Sumit', 183), ('Rahul', 175), ('Kritika', 170), ('Harshit', 177), ('Deepak', 162)]``` \n"
      ]
    },
    {
      "cell_type": "code",
      "metadata": {
        "id": "qUkmR5sBXRcJ",
        "colab_type": "code",
        "colab": {
          "base_uri": "https://localhost:8080/",
          "height": 35
        },
        "outputId": "ac36c85d-e7cb-4f88-dbf8-775699410474"
      },
      "source": [
        "data = [('Sumit', 183), ('Rahul', 175), ('Kritika', 170), ('Harshit', 177), ('Deepak', 162)]\n",
        "\n",
        "{key:value for key,value in data}"
      ],
      "execution_count": 67,
      "outputs": [
        {
          "output_type": "execute_result",
          "data": {
            "text/plain": [
              "{'Deepak': 162, 'Harshit': 177, 'Kritika': 170, 'Rahul': 175, 'Sumit': 183}"
            ]
          },
          "metadata": {
            "tags": []
          },
          "execution_count": 67
        }
      ]
    },
    {
      "cell_type": "markdown",
      "metadata": {
        "id": "L_vjVzRaYBM1",
        "colab_type": "text"
      },
      "source": [
        "3.   Write a function which takes list of random integers as an input and returns the list all the unique values present in that list. For ex:\n",
        ">``` \n",
        "Input: [1, 2, 4, 4, 3, 2, 1, 1, 2, 4, 5, 3]\n",
        "Output : [1, 2, 3, 4, 5]\n",
        "```"
      ]
    },
    {
      "cell_type": "code",
      "metadata": {
        "id": "5YtKUtA9X35a",
        "colab_type": "code",
        "colab": {
          "base_uri": "https://localhost:8080/",
          "height": 35
        },
        "outputId": "1a754ecb-3e4d-4ecc-f340-2334baa49898"
      },
      "source": [
        "Input =  [1, 2, 4, 4, 3, 2, 1, 1, 2, 4, 5, 3]\n",
        "list(set(Input))"
      ],
      "execution_count": 69,
      "outputs": [
        {
          "output_type": "execute_result",
          "data": {
            "text/plain": [
              "[1, 2, 3, 4, 5]"
            ]
          },
          "metadata": {
            "tags": []
          },
          "execution_count": 69
        }
      ]
    },
    {
      "cell_type": "markdown",
      "metadata": {
        "id": "jfU_1mP7YQ3E",
        "colab_type": "text"
      },
      "source": [
        "4.   Write a program to generate a dictionary that contains the number between $1$ and $n$ in the form of $(key : value) = (x : x^2)$ where $n=100$. For ex:\n",
        ">```\n",
        "If n = 7 then output will be = {0:0, 1:1, 2:4}"
      ]
    },
    {
      "cell_type": "code",
      "metadata": {
        "id": "9OtG8N2DYUdA",
        "colab_type": "code",
        "colab": {
          "base_uri": "https://localhost:8080/",
          "height": 35
        },
        "outputId": "4b23b1ed-2c47-44c1-edbc-1dd637ba9e5e"
      },
      "source": [
        "n = 7\n",
        "{x : x**2 for x in range(1,n+1) if x**2 < n}"
      ],
      "execution_count": 70,
      "outputs": [
        {
          "output_type": "execute_result",
          "data": {
            "text/plain": [
              "{1: 1, 2: 4}"
            ]
          },
          "metadata": {
            "tags": []
          },
          "execution_count": 70
        }
      ]
    },
    {
      "cell_type": "code",
      "metadata": {
        "id": "jGx8t0AdYzdA",
        "colab_type": "code",
        "colab": {}
      },
      "source": [
        ""
      ],
      "execution_count": 0,
      "outputs": []
    },
    {
      "cell_type": "code",
      "metadata": {
        "id": "2A_MFKU8YQBc",
        "colab_type": "code",
        "colab": {}
      },
      "source": [
        ""
      ],
      "execution_count": 0,
      "outputs": []
    },
    {
      "cell_type": "code",
      "metadata": {
        "id": "bB6JMt5zYMcJ",
        "colab_type": "code",
        "colab": {}
      },
      "source": [
        ""
      ],
      "execution_count": 0,
      "outputs": []
    },
    {
      "cell_type": "code",
      "metadata": {
        "id": "viCiRuvmOOkU",
        "colab_type": "code",
        "colab": {}
      },
      "source": [
        ""
      ],
      "execution_count": 0,
      "outputs": []
    }
  ]
}