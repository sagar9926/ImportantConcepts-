{
  "nbformat": 4,
  "nbformat_minor": 0,
  "metadata": {
    "colab": {
      "name": "MakingSwastikUsing Python.ipynb",
      "provenance": [],
      "authorship_tag": "ABX9TyNZZx7xQIPFaZWUOkTPSrkx",
      "include_colab_link": true
    },
    "kernelspec": {
      "name": "python3",
      "display_name": "Python 3"
    }
  },
  "cells": [
    {
      "cell_type": "markdown",
      "metadata": {
        "id": "view-in-github",
        "colab_type": "text"
      },
      "source": [
        "<a href=\"https://colab.research.google.com/github/sagar9926/ImportantConcepts-/blob/master/Python/MakingSwastikUsing_Python.ipynb\" target=\"_parent\"><img src=\"https://colab.research.google.com/assets/colab-badge.svg\" alt=\"Open In Colab\"/></a>"
      ]
    },
    {
      "cell_type": "code",
      "metadata": {
        "id": "dIc3q3HEPQSw",
        "colab_type": "code",
        "colab": {
          "base_uri": "https://localhost:8080/",
          "height": 72
        },
        "outputId": "7d3ab4a4-307e-4d1f-80a8-4abd427ac5a5"
      },
      "source": [
        "import numpy as np\n",
        "import matplotlib.pyplot as plt\n",
        "import seaborn as sns\n",
        "sns.set()"
      ],
      "execution_count": 5,
      "outputs": [
        {
          "output_type": "stream",
          "text": [
            "/usr/local/lib/python3.6/dist-packages/statsmodels/tools/_testing.py:19: FutureWarning: pandas.util.testing is deprecated. Use the functions in the public API at pandas.testing instead.\n",
            "  import pandas.util.testing as tm\n"
          ],
          "name": "stderr"
        }
      ]
    },
    {
      "cell_type": "code",
      "metadata": {
        "id": "EBpONHH4Pbcq",
        "colab_type": "code",
        "colab": {}
      },
      "source": [
        "plt.quiver?"
      ],
      "execution_count": 0,
      "outputs": []
    },
    {
      "cell_type": "code",
      "metadata": {
        "id": "XCXURka5PlCX",
        "colab_type": "code",
        "colab": {
          "base_uri": "https://localhost:8080/",
          "height": 272
        },
        "outputId": "66a07ccf-470d-47e4-943b-f44d26f27953"
      },
      "source": [
        "plt.quiver(0,0,8,0, scale_units='xy', angles='xy', scale=1, color='r')\n",
        "plt.quiver(0,0,-8,0, scale_units='xy', angles='xy', scale=1, color='r')\n",
        "plt.quiver(0,0,0,8, scale_units='xy', angles='xy', scale=1, color='r')\n",
        "plt.quiver(0,0,0,-8, scale_units='xy', angles='xy', scale=1, color='r')\n",
        "\n",
        "plt.quiver(0,7.5,8,0, scale_units='xy', angles='xy', scale=1, color='r')\n",
        "plt.quiver(0,-7.5,-8,0, scale_units='xy', angles='xy', scale=1, color='r')\n",
        "plt.quiver(-7.5,0,0,8, scale_units='xy', angles='xy', scale=1, color='r')\n",
        "plt.quiver(7.5,0,0,-8, scale_units='xy', angles='xy', scale=1, color='r')\n",
        "\n",
        "plt.xlim(-10,10)\n",
        "plt.ylim(-10,10)\n",
        "plt.show()"
      ],
      "execution_count": 43,
      "outputs": [
        {
          "output_type": "display_data",
          "data": {
            "image/png": "[encoded data removed]",
            "text/plain": [
              "<Figure size 432x288 with 1 Axes>"
            ]
          },
          "metadata": {
            "tags": []
          }
        }
      ]
    }
  ]
}